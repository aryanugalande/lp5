{
  "cells": [
    {
      "cell_type": "markdown",
      "metadata": {
        "colab_type": "text",
        "id": "view-in-github"
      },
      "source": [
        "<a href=\"https://colab.research.google.com/github/radar101/SEM-8/blob/main/IMDB.ipynb\" target=\"_parent\"><img src=\"https://colab.research.google.com/assets/colab-badge.svg\" alt=\"Open In Colab\"/></a>"
      ]
    },
    {
      "cell_type": "code",
      "execution_count": 2,
      "metadata": {
        "id": "aSV0re2VyooE"
      },
      "outputs": [],
      "source": [
        "import numpy as np\n",
        "import pandas as pd\n",
        "import matplotlib.pyplot as plt"
      ]
    },
    {
      "cell_type": "code",
      "execution_count": 12,
      "metadata": {
        "id": "5CYq5pVL0FBb"
      },
      "outputs": [],
      "source": [
        "df = pd.read_csv(\"IMDB Dataset.csv\")"
      ]
    },
    {
      "cell_type": "code",
      "execution_count": 13,
      "metadata": {
        "colab": {
          "base_uri": "https://localhost:8080/"
        },
        "id": "lmN59E9c0MFh",
        "outputId": "57d3593e-5343-472b-9b7a-2fc864aef250"
      },
      "outputs": [
        {
          "name": "stdout",
          "output_type": "stream",
          "text": [
            "                                              review sentiment\n",
            "0  One of the other reviewers has mentioned that ...  positive\n",
            "1  A wonderful little production. <br /><br />The...  positive\n",
            "2  I thought this was a wonderful way to spend ti...  positive\n",
            "3  Basically there's a family where a little boy ...  negative\n",
            "4  Petter Mattei's \"Love in the Time of Money\" is...  positive\n"
          ]
        }
      ],
      "source": [
        "print(df.head())"
      ]
    },
    {
      "cell_type": "code",
      "execution_count": 14,
      "metadata": {
        "colab": {
          "base_uri": "https://localhost:8080/",
          "height": 147
        },
        "id": "pWNtmNim06qh",
        "outputId": "8b2b3efb-0b0e-4bd8-eef7-e50a613827fe"
      },
      "outputs": [
        {
          "data": {
            "text/html": [
              "<div>\n",
              "<style scoped>\n",
              "    .dataframe tbody tr th:only-of-type {\n",
              "        vertical-align: middle;\n",
              "    }\n",
              "\n",
              "    .dataframe tbody tr th {\n",
              "        vertical-align: top;\n",
              "    }\n",
              "\n",
              "    .dataframe thead th {\n",
              "        text-align: right;\n",
              "    }\n",
              "</style>\n",
              "<table border=\"1\" class=\"dataframe\">\n",
              "  <thead>\n",
              "    <tr style=\"text-align: right;\">\n",
              "      <th></th>\n",
              "      <th>0</th>\n",
              "    </tr>\n",
              "  </thead>\n",
              "  <tbody>\n",
              "    <tr>\n",
              "      <th>review</th>\n",
              "      <td>0</td>\n",
              "    </tr>\n",
              "    <tr>\n",
              "      <th>sentiment</th>\n",
              "      <td>0</td>\n",
              "    </tr>\n",
              "  </tbody>\n",
              "</table>\n",
              "</div><br><label><b>dtype:</b> int64</label>"
            ],
            "text/plain": [
              "review       0\n",
              "sentiment    0\n",
              "dtype: int64"
            ]
          },
          "execution_count": 14,
          "metadata": {},
          "output_type": "execute_result"
        }
      ],
      "source": [
        "df.isnull().sum()"
      ]
    },
    {
      "cell_type": "code",
      "execution_count": 15,
      "metadata": {
        "id": "ZVrZzmUV1O8r"
      },
      "outputs": [],
      "source": [
        "import seaborn as sns"
      ]
    },
    {
      "cell_type": "code",
      "execution_count": 16,
      "metadata": {
        "colab": {
          "base_uri": "https://localhost:8080/",
          "height": 466
        },
        "id": "h-fXWZgg1TNL",
        "outputId": "83022081-5aa0-489b-d1bf-abf82782354e"
      },
      "outputs": [
        {
          "data": {
            "text/plain": [
              "<Axes: xlabel='sentiment', ylabel='count'>"
            ]
          },
          "execution_count": 16,
          "metadata": {},
          "output_type": "execute_result"
        },
        {
          "data": {
            "image/png": "[encoded data removed]",
            "text/plain": [
              "<Figure size 640x480 with 1 Axes>"
            ]
          },
          "metadata": {},
          "output_type": "display_data"
        }
      ],
      "source": [
        "sns.countplot(data=df, x=\"sentiment\")"
      ]
    },
    {
      "cell_type": "code",
      "execution_count": 17,
      "metadata": {
        "id": "aAP-MXz01aqM"
      },
      "outputs": [],
      "source": [
        "import tensorflow as tf\n",
        "from sklearn.model_selection import train_test_split\n",
        "from sklearn.preprocessing import LabelEncoder\n",
        "from tensorflow.keras.models import Sequential\n",
        "from tensorflow.keras.layers import Dense, Embedding, GlobalAveragePooling1D\n",
        "from tensorflow.keras.preprocessing.text import Tokenizer\n",
        "from tensorflow.keras.preprocessing.sequence import pad_sequences"
      ]
    },
    {
      "cell_type": "code",
      "execution_count": 18,
      "metadata": {
        "id": "NZc_vDJy9aYq"
      },
      "outputs": [],
      "source": [
        "label_encoder = LabelEncoder()\n",
        "df['sentiment'] = label_encoder.fit_transform(df['sentiment'])"
      ]
    },
    {
      "cell_type": "code",
      "execution_count": 33,
      "metadata": {
        "id": "_EPoDbnL9txr"
      },
      "outputs": [],
      "source": [
        "X_train, X_test, y_train, y_test = train_test_split(df['review'], df['sentiment'], test_size=0.2, random_state=42)\n"
      ]
    },
    {
      "cell_type": "code",
      "execution_count": 40,
      "metadata": {
        "id": "LAgRlwBg-AMo"
      },
      "outputs": [],
      "source": [
        "vocab_size = 10000\n",
        "max_length = 200\n",
        "tokenizer = Tokenizer(num_words=vocab_size, oov_token=\"<OOV>\")\n",
        "tokenizer.fit_on_texts(X_train)\n"
      ]
    },
    {
      "cell_type": "code",
      "execution_count": null,
      "metadata": {
        "id": "RQq9J7JY1lTL"
      },
      "outputs": [],
      "source": []
    },
    {
      "cell_type": "markdown",
      "metadata": {
        "id": "Rejjcqjm1k9N"
      },
      "source": [
        "Initializes tokenizer for the top 10,000 words. <OOV> handles out-of-vocabulary words. Tokenizer is fit only on training data.\n",
        "\n",
        "python\n",
        "Copy\n",
        "Edit\n"
      ]
    },
    {
      "cell_type": "code",
      "execution_count": 44,
      "metadata": {
        "id": "5rND585s-skn"
      },
      "outputs": [],
      "source": [
        "X_train_seq = tokenizer.texts_to_sequences(X_train)\n",
        "X_test_seq = tokenizer.texts_to_sequences(X_test)\n",
        "# Converts text data into sequences of integers based on word index from tokenizer."
      ]
    },
    {
      "cell_type": "code",
      "execution_count": 47,
      "metadata": {
        "id": "1JOBmouB-2e-"
      },
      "outputs": [],
      "source": [
        "X_train_pad = pad_sequences(X_train_seq, maxlen=max_length, padding=\"post\", truncating=\"post\")\n",
        "X_test_pad = pad_sequences(X_test_seq, maxlen=max_length, padding=\"post\", truncating=\"post\")\n",
        "# Pads or truncates sequences to ensure uniform length (max_length=200), padding at the end (post)."
      ]
    },
    {
      "cell_type": "code",
      "execution_count": null,
      "metadata": {
        "colab": {
          "base_uri": "https://localhost:8080/"
        },
        "id": "TRRHKmVI_8JH",
        "outputId": "3b0a87c4-d9ea-417d-ce0b-dfea8f8a6b84"
      },
      "outputs": [
        {
          "name": "stderr",
          "output_type": "stream",
          "text": [
            "/usr/local/lib/python3.11/dist-packages/keras/src/layers/core/embedding.py:90: UserWarning: Argument `input_length` is deprecated. Just remove it.\n",
            "  warnings.warn(\n"
          ]
        }
      ],
      "source": [
        "model = Sequential()\n",
        "\n",
        "# Add Embedding layer\n",
        "model.add(Embedding(input_dim=vocab_size, output_dim=16, input_length=max_length))\n",
        "\n",
        "# Add GlobalAveragePooling1D layer\n",
        "model.add(GlobalAveragePooling1D())\n",
        "\n",
        "# Add Dense layers\n",
        "model.add(Dense(32, activation='relu'))\n",
        "\n",
        "# Output layer\n",
        "model.add(Dense(1, activation='sigmoid'))\n"
      ]
    },
    {
      "cell_type": "markdown",
      "metadata": {
        "id": "IacAkqbg1xLM"
      },
      "source": [
        "Constructs a DNN:\n",
        "\n",
        "Embedding: Converts word indices into dense 16-dimensional vectors.\n",
        "\n",
        "GlobalAveragePooling1D: Averages across all time steps.\n",
        "\n",
        "Dense(32): Fully connected hidden layer with ReLU.\n",
        "\n",
        "Dense(1): Output neuron with sigmoid for binary classification."
      ]
    },
    {
      "cell_type": "code",
      "execution_count": 49,
      "metadata": {
        "id": "Z9HJZmEjGJLQ"
      },
      "outputs": [],
      "source": [
        "model.compile(optimizer='adam', loss='binary_crossentropy', metrics=['accuracy'])"
      ]
    },
    {
      "cell_type": "code",
      "execution_count": 50,
      "metadata": {
        "colab": {
          "base_uri": "https://localhost:8080/"
        },
        "id": "-VJO6B06GTty",
        "outputId": "319b92ff-45b4-4e94-ed48-5e30124fce84"
      },
      "outputs": [
        {
          "name": "stdout",
          "output_type": "stream",
          "text": [
            "Epoch 1/10\n",
            "\u001b[1m1000/1000\u001b[0m \u001b[32m━━━━━━━━━━━━━━━━━━━━\u001b[0m\u001b[37m\u001b[0m \u001b[1m8s\u001b[0m 6ms/step - accuracy: 0.6726 - loss: 0.5932 - val_accuracy: 0.8593 - val_loss: 0.3358\n",
            "Epoch 2/10\n",
            "\u001b[1m1000/1000\u001b[0m \u001b[32m━━━━━━━━━━━━━━━━━━━━\u001b[0m\u001b[37m\u001b[0m \u001b[1m5s\u001b[0m 5ms/step - accuracy: 0.8819 - loss: 0.2944 - val_accuracy: 0.8750 - val_loss: 0.3021\n",
            "Epoch 3/10\n",
            "\u001b[1m1000/1000\u001b[0m \u001b[32m━━━━━━━━━━━━━━━━━━━━\u001b[0m\u001b[37m\u001b[0m \u001b[1m7s\u001b[0m 6ms/step - accuracy: 0.9087 - loss: 0.2370 - val_accuracy: 0.8741 - val_loss: 0.3042\n",
            "Epoch 4/10\n",
            "\u001b[1m1000/1000\u001b[0m \u001b[32m━━━━━━━━━━━━━━━━━━━━\u001b[0m\u001b[37m\u001b[0m \u001b[1m5s\u001b[0m 5ms/step - accuracy: 0.9169 - loss: 0.2122 - val_accuracy: 0.8714 - val_loss: 0.3127\n",
            "Epoch 5/10\n",
            "\u001b[1m1000/1000\u001b[0m \u001b[32m━━━━━━━━━━━━━━━━━━━━\u001b[0m\u001b[37m\u001b[0m \u001b[1m5s\u001b[0m 5ms/step - accuracy: 0.9222 - loss: 0.1988 - val_accuracy: 0.8619 - val_loss: 0.3363\n",
            "Epoch 6/10\n",
            "\u001b[1m1000/1000\u001b[0m \u001b[32m━━━━━━━━━━━━━━━━━━━━\u001b[0m\u001b[37m\u001b[0m \u001b[1m6s\u001b[0m 6ms/step - accuracy: 0.9344 - loss: 0.1772 - val_accuracy: 0.8655 - val_loss: 0.3508\n",
            "Epoch 7/10\n",
            "\u001b[1m1000/1000\u001b[0m \u001b[32m━━━━━━━━━━━━━━━━━━━━\u001b[0m\u001b[37m\u001b[0m \u001b[1m5s\u001b[0m 5ms/step - accuracy: 0.9400 - loss: 0.1663 - val_accuracy: 0.8556 - val_loss: 0.3703\n",
            "Epoch 8/10\n",
            "\u001b[1m1000/1000\u001b[0m \u001b[32m━━━━━━━━━━━━━━━━━━━━\u001b[0m\u001b[37m\u001b[0m \u001b[1m6s\u001b[0m 6ms/step - accuracy: 0.9416 - loss: 0.1591 - val_accuracy: 0.8533 - val_loss: 0.4139\n",
            "Epoch 9/10\n",
            "\u001b[1m1000/1000\u001b[0m \u001b[32m━━━━━━━━━━━━━━━━━━━━\u001b[0m\u001b[37m\u001b[0m \u001b[1m5s\u001b[0m 5ms/step - accuracy: 0.9441 - loss: 0.1543 - val_accuracy: 0.8534 - val_loss: 0.4042\n",
            "Epoch 10/10\n",
            "\u001b[1m1000/1000\u001b[0m \u001b[32m━━━━━━━━━━━━━━━━━━━━\u001b[0m\u001b[37m\u001b[0m \u001b[1m6s\u001b[0m 6ms/step - accuracy: 0.9522 - loss: 0.1345 - val_accuracy: 0.8583 - val_loss: 0.4036\n"
          ]
        }
      ],
      "source": [
        "history = model.fit(X_train_pad, y_train, epochs=10, batch_size=32, validation_split=0.2)"
      ]
    },
    {
      "cell_type": "code",
      "execution_count": 53,
      "metadata": {
        "colab": {
          "base_uri": "https://localhost:8080/"
        },
        "id": "Y_edhmbOHVS0",
        "outputId": "308a6fcb-78ba-4165-f651-e017e8282ad9"
      },
      "outputs": [
        {
          "name": "stdout",
          "output_type": "stream",
          "text": [
            "\u001b[1m313/313\u001b[0m \u001b[32m━━━━━━━━━━━━━━━━━━━━\u001b[0m\u001b[37m\u001b[0m \u001b[1m1s\u001b[0m 2ms/step - accuracy: 0.8635 - loss: 0.3863\n",
            "\n",
            "✅ Test Loss: 0.39\n",
            "✅ Test Accuracy: 0.86\n"
          ]
        }
      ],
      "source": [
        "loss, accuracy = model.evaluate(X_test_pad, y_test)\n",
        "print(f\"\\n✅ Test Loss: {loss:.2f}\")\n",
        "print(f\"✅ Test Accuracy: {accuracy:.2f}\")\n"
      ]
    },
    {
      "cell_type": "code",
      "execution_count": null,
      "metadata": {
        "id": "7oVJBI3wH9er"
      },
      "outputs": [],
      "source": [
        "def predict_sentiment(review_text):\n",
        "    seq = tokenizer.texts_to_sequences([review_text])\n",
        "    pad = pad_sequences(seq, maxlen=max_length, padding='post', truncating='post')\n",
        "    pred = model.predict(pad)[0][0]\n",
        "    if pred > 0.5 :\n",
        "        sentiment = \"Positive\" \n",
        "    else:\n",
        "        sentiment= \"Negative\"\n",
        "        \n",
        "    return f\"Predicted Sentiment: {sentiment} \"\n"
      ]
    },
    {
      "cell_type": "code",
      "execution_count": 56,
      "metadata": {
        "colab": {
          "base_uri": "https://localhost:8080/"
        },
        "id": "Kq3HoqkiIDCu",
        "outputId": "153b357b-d31a-4b6a-bd0c-50f78afb509c"
      },
      "outputs": [
        {
          "name": "stdout",
          "output_type": "stream",
          "text": [
            "\u001b[1m1/1\u001b[0m \u001b[32m━━━━━━━━━━━━━━━━━━━━\u001b[0m\u001b[37m\u001b[0m \u001b[1m0s\u001b[0m 81ms/step\n",
            "Predicted Sentiment: Positive (Confidence: 1.00)\n"
          ]
        }
      ],
      "source": [
        "print(predict_sentiment(df['review'][99]))\n"
      ]
    },
    {
      "cell_type": "markdown",
      "metadata": {
        "id": "q_6dwUqH15LG"
      },
      "source": [
        "1. Q: What is the purpose of tokenization in this project?\n",
        "A: Tokenization converts text into numerical sequences so that they can be fed into neural networks.\n",
        "\n",
        "2. Q: Why do we use padding?\n",
        "A: Padding ensures that all input sequences have the same length, which is necessary for batch processing in neural networks.\n",
        "\n",
        "3. Q: What does the Embedding layer do?\n",
        "A: The Embedding layer transforms word indices into dense vectors of fixed size, capturing semantic meaning.\n",
        "\n",
        "4. Q: Why use GlobalAveragePooling1D()?\n",
        "A: It reduces the output of the embedding layer by averaging across all word vectors, giving a fixed-size output regardless of input length.\n",
        "\n",
        "5. Q: What loss function is used and why?\n",
        "A: Binary crossentropy, because this is a binary classification task (positive/negative sentiment).\n",
        "\n",
        "6. Q: Why is LabelEncoder used?\n",
        "A: To convert string labels (\"positive\"/\"negative\") into integers (1/0) for training.\n",
        "\n",
        "7. Q: What does the oov_token=\"<OOV>\" do?\n",
        "A: It represents unknown or out-of-vocabulary words not seen during training.\n",
        "\n",
        "8. Q: Why is validation_split=0.2 used in training?\n",
        "A: To monitor the model’s performance on unseen data during training and prevent overfitting.\n",
        "\n",
        "9. Q: What optimizer is used and why?\n",
        "A: Adam optimizer, because it combines the benefits of both AdaGrad and RMSProp, making it efficient for most problems.\n",
        "\n",
        "10. Q: What is the role of Sequential model?\n",
        "A: It allows stacking layers in a linear fashion, suitable for simple feed-forward networks.\n",
        "\n",
        "11. Q: Why is sigmoid used in the final layer?\n",
        "A: To output a probability between 0 and 1 for binary classification.\n",
        "\n",
        "12. Q: How is accuracy calculated during training?\n",
        "A: It is the ratio of correctly predicted labels to total predictions."
      ]
    }
  ],
  "metadata": {
    "colab": {
      "authorship_tag": "ABX9TyMcjJOqGco8shWR/4ZjUl3y",
      "include_colab_link": true,
      "provenance": []
    },
    "kernelspec": {
      "display_name": "Python 3",
      "name": "python3"
    },
    "language_info": {
      "name": "python"
    }
  },
  "nbformat": 4,
  "nbformat_minor": 0
}
