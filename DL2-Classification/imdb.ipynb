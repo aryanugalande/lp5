{
 "cells": [
  {
   "cell_type": "code",
   "execution_count": 1,
   "id": "c7ec6e60-d1ba-4f88-9d52-2ffd1be6f518",
   "metadata": {},
   "outputs": [],
   "source": [
    "import pandas as pd\n",
    "import numpy as np\n",
    "import matplotlib.pyplot as plt\n",
    "from sklearn.model_selection import train_test_split\n",
    "from sklearn.metrics import confusion_matrix, ConfusionMatrixDisplay\n",
    "from tensorflow.keras.preprocessing.text import Tokenizer\n",
    "from tensorflow.keras.preprocessing.sequence import pad_sequences\n",
    "from tensorflow.keras.models import Sequential\n",
    "from tensorflow.keras.layers import Embedding, GlobalAveragePooling1D, Dense, Dropout"
   ]
  },
  {
   "cell_type": "code",
   "execution_count": 2,
   "id": "b48bfd9b-8be7-462f-8280-a3b1a5bc7676",
   "metadata": {},
   "outputs": [],
   "source": [
    "df = pd.read_csv('IMDB Dataset.csv')\n",
    "df['sentiment'] = df['sentiment'].map({'positive': 1, 'negative': 0})"
   ]
  },
  {
   "cell_type": "code",
   "execution_count": 3,
   "id": "2311b531-e1b3-46b4-a61a-d8c408c11058",
   "metadata": {},
   "outputs": [],
   "source": [
    "X_train, X_test, y_train, y_test = train_test_split(df['review'], df['sentiment'], test_size=0.2, random_state=42)"
   ]
  },
  {
   "cell_type": "code",
   "execution_count": 4,
   "id": "96a44593-112d-47a3-bc2f-f80eac513408",
   "metadata": {},
   "outputs": [],
   "source": [
    "vocab_size = 10000\n",
    "max_length = 300\n",
    "\n",
    "tokenizer = Tokenizer(num_words=vocab_size, oov_token=\"<OOV>\")\n",
    "tokenizer.fit_on_texts(X_train)\n",
    "\n",
    "X_train_seq = tokenizer.texts_to_sequences(X_train)\n",
    "X_test_seq = tokenizer.texts_to_sequences(X_test)\n",
    "\n",
    "X_train_pad = pad_sequences(X_train_seq, maxlen=max_length, padding='post', truncating='post')\n",
    "X_test_pad = pad_sequences(X_test_seq, maxlen=max_length, padding='post', truncating='post')"
   ]
  },
  {
   "cell_type": "code",
   "execution_count": 5,
   "id": "41868edd-e2dd-457d-9a31-ae61b668ec9e",
   "metadata": {},
   "outputs": [],
   "source": [
    "model = Sequential([\n",
    "    Embedding(input_dim=vocab_size, output_dim=64, input_length=max_length),\n",
    "    GlobalAveragePooling1D(),\n",
    "    Dense(64, activation='relu'),\n",
    "    Dropout(0.5),\n",
    "    Dense(1, activation='sigmoid')\n",
    "])\n",
    "\n",
    "model.compile(loss='binary_crossentropy', optimizer='adam', metrics=['accuracy'])"
   ]
  },
  {
   "cell_type": "code",
   "execution_count": 6,
   "id": "7e07341b-9c43-4276-96f5-23f29bb7debe",
   "metadata": {},
   "outputs": [
    {
     "name": "stdout",
     "output_type": "stream",
     "text": [
      "Epoch 1/5\n",
      "1125/1125 [==============================] - 4s 3ms/step - loss: 0.4189 - accuracy: 0.8131 - val_loss: 0.2827 - val_accuracy: 0.8917\n",
      "Epoch 2/5\n",
      "1125/1125 [==============================] - 5s 4ms/step - loss: 0.2478 - accuracy: 0.9055 - val_loss: 0.2691 - val_accuracy: 0.8923\n",
      "Epoch 3/5\n",
      "1125/1125 [==============================] - 5s 5ms/step - loss: 0.2078 - accuracy: 0.9233 - val_loss: 0.2894 - val_accuracy: 0.8860\n",
      "Epoch 4/5\n",
      "1125/1125 [==============================] - 5s 5ms/step - loss: 0.1850 - accuracy: 0.9346 - val_loss: 0.3014 - val_accuracy: 0.8838\n",
      "Epoch 5/5\n",
      "1125/1125 [==============================] - 5s 5ms/step - loss: 0.1659 - accuracy: 0.9433 - val_loss: 0.3249 - val_accuracy: 0.8817\n"
     ]
    },
    {
     "data": {
      "text/plain": [
       "<keras.src.callbacks.History at 0x165de8050>"
      ]
     },
     "execution_count": 6,
     "metadata": {},
     "output_type": "execute_result"
    }
   ],
   "source": [
    "model.fit(X_train_pad, y_train, epochs=5, batch_size=32, validation_split=0.1)"
   ]
  },
  {
   "cell_type": "code",
   "execution_count": 7,
   "id": "b93d8d75-a2f4-427a-88f8-17330d87bbc4",
   "metadata": {},
   "outputs": [
    {
     "name": "stdout",
     "output_type": "stream",
     "text": [
      "313/313 [==============================] - 0s 681us/step - loss: 0.3133 - accuracy: 0.8804\n",
      "Test Accuracy: 0.8804000020027161\n"
     ]
    }
   ],
   "source": [
    "loss, accuracy = model.evaluate(X_test_pad, y_test)\n",
    "print(\"Test Accuracy:\", accuracy)"
   ]
  },
  {
   "cell_type": "code",
   "execution_count": 8,
   "id": "76c6f8c8-9acb-4125-afba-9dbadb0de89b",
   "metadata": {},
   "outputs": [
    {
     "name": "stdout",
     "output_type": "stream",
     "text": [
      "313/313 [==============================] - 0s 701us/step\n"
     ]
    },
    {
     "data": {
      "image/png": "[encoded data removed]",
      "text/plain": [
       "<Figure size 640x480 with 2 Axes>"
      ]
     },
     "metadata": {},
     "output_type": "display_data"
    }
   ],
   "source": [
    "y_pred = model.predict(X_test_pad)\n",
    "y_pred_class = (y_pred > 0.5).astype(int)\n",
    "\n",
    "cm = confusion_matrix(y_test, y_pred_class)\n",
    "disp = ConfusionMatrixDisplay(confusion_matrix=cm, display_labels=['Negative', 'Positive'])\n",
    "disp.plot(cmap=plt.cm.Blues)\n",
    "plt.title('Confusion Matrix')\n",
    "plt.show()"
   ]
  },
  {
   "cell_type": "code",
   "execution_count": 9,
   "id": "ccf34d5e-487d-4df6-aabb-672d65ed608e",
   "metadata": {},
   "outputs": [],
   "source": [
    "def predict_sentiment(review_text):\n",
    "    seq = tokenizer.texts_to_sequences([review_text])\n",
    "    pad = pad_sequences(seq, maxlen=max_length, padding='post', truncating='post')\n",
    "    pred = model.predict(pad)[0][0]\n",
    "    sentiment = \"Positive\" if pred > 0.5 else \"Negative\"\n",
    "    return f\"Predicted Sentiment: {sentiment} (Confidence: {pred:.2f})\""
   ]
  },
  {
   "cell_type": "code",
   "execution_count": 10,
   "id": "e402cfef-d3e7-4448-a6ef-96c66e7b65c5",
   "metadata": {},
   "outputs": [
    {
     "name": "stdout",
     "output_type": "stream",
     "text": [
      "1/1 [==============================] - 0s 10ms/step\n",
      "Predicted Sentiment: Positive (Confidence: 1.00)\n"
     ]
    }
   ],
   "source": [
    "print(predict_sentiment(df['review'][90]))"
   ]
  }
 ],
 "metadata": {
  "kernelspec": {
   "display_name": "Python 3 (ipykernel)",
   "language": "python",
   "name": "python3"
  },
  "language_info": {
   "codemirror_mode": {
    "name": "ipython",
    "version": 3
   },
   "file_extension": ".py",
   "mimetype": "text/x-python",
   "name": "python",
   "nbconvert_exporter": "python",
   "pygments_lexer": "ipython3",
   "version": "3.11.5"
  }
 },
 "nbformat": 4,
 "nbformat_minor": 5
}
