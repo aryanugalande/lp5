{
 "cells": [
  {
   "cell_type": "markdown",
   "id": "896d5e98-ca02-4a5c-9480-e5f6eed7747c",
   "metadata": {},
   "source": [
    "# PROBLEM STATEMENT :-\n",
    "####  Recurrent Neural Network (RNN) :- Use the Google stock prices dataset and design a time series analysis and prediction system using RNN."
   ]
  },
  {
   "cell_type": "markdown",
   "id": "e30fdafd-8a2a-4b45-b194-0fef40b7ba7a",
   "metadata": {},
   "source": [
    "## Importing Libraries"
   ]
  },
  {
   "cell_type": "code",
   "execution_count": 1,
   "id": "94e0c9cb-04fa-4587-a8f6-00b8d8f1beee",
   "metadata": {},
   "outputs": [],
   "source": [
    "import pandas as pd\n",
    "import numpy as np\n",
    "import matplotlib.pyplot as plt\n",
    "import tensorflow as tf\n",
    "tf.config.run_functions_eagerly(True)"
   ]
  },
  {
   "cell_type": "markdown",
   "id": "746c7dc0-174f-4b99-acdc-9c6156d8038c",
   "metadata": {},
   "source": [
    "## Loading Dataset"
   ]
  },
  {
   "cell_type": "code",
   "execution_count": 2,
   "id": "229ce671-4ee4-4aa6-b551-8c8f9e3f55f3",
   "metadata": {},
   "outputs": [],
   "source": [
    "data=pd.read_csv('./goog.csv')"
   ]
  },
  {
   "cell_type": "markdown",
   "id": "6bc3855b-e424-42ef-8727-a58b6bbdb192",
   "metadata": {},
   "source": [
    "## Dataset Statistics"
   ]
  },
  {
   "cell_type": "code",
   "execution_count": 3,
   "id": "00c54490-e82b-4de0-8590-a35ef349a5a1",
   "metadata": {},
   "outputs": [
    {
     "data": {
      "text/html": [
       "<div>\n",
       "<style scoped>\n",
       "    .dataframe tbody tr th:only-of-type {\n",
       "        vertical-align: middle;\n",
       "    }\n",
       "\n",
       "    .dataframe tbody tr th {\n",
       "        vertical-align: top;\n",
       "    }\n",
       "\n",
       "    .dataframe thead th {\n",
       "        text-align: right;\n",
       "    }\n",
       "</style>\n",
       "<table border=\"1\" class=\"dataframe\">\n",
       "  <thead>\n",
       "    <tr style=\"text-align: right;\">\n",
       "      <th></th>\n",
       "      <th>Date</th>\n",
       "      <th>Open</th>\n",
       "      <th>High</th>\n",
       "      <th>Low</th>\n",
       "      <th>Close</th>\n",
       "      <th>Volume</th>\n",
       "    </tr>\n",
       "  </thead>\n",
       "  <tbody>\n",
       "    <tr>\n",
       "      <th>0</th>\n",
       "      <td>12/19/2016</td>\n",
       "      <td>790.219971</td>\n",
       "      <td>797.659973</td>\n",
       "      <td>786.270020</td>\n",
       "      <td>794.200012</td>\n",
       "      <td>1225900</td>\n",
       "    </tr>\n",
       "    <tr>\n",
       "      <th>1</th>\n",
       "      <td>12/20/2016</td>\n",
       "      <td>796.760010</td>\n",
       "      <td>798.650024</td>\n",
       "      <td>793.270020</td>\n",
       "      <td>796.419983</td>\n",
       "      <td>925100</td>\n",
       "    </tr>\n",
       "    <tr>\n",
       "      <th>2</th>\n",
       "      <td>12/21/2016</td>\n",
       "      <td>795.840027</td>\n",
       "      <td>796.676025</td>\n",
       "      <td>787.099976</td>\n",
       "      <td>794.559998</td>\n",
       "      <td>1208700</td>\n",
       "    </tr>\n",
       "    <tr>\n",
       "      <th>3</th>\n",
       "      <td>12/22/2016</td>\n",
       "      <td>792.359985</td>\n",
       "      <td>793.320007</td>\n",
       "      <td>788.580017</td>\n",
       "      <td>791.260010</td>\n",
       "      <td>969100</td>\n",
       "    </tr>\n",
       "    <tr>\n",
       "      <th>4</th>\n",
       "      <td>12/23/2016</td>\n",
       "      <td>790.900024</td>\n",
       "      <td>792.739990</td>\n",
       "      <td>787.280029</td>\n",
       "      <td>789.909973</td>\n",
       "      <td>623400</td>\n",
       "    </tr>\n",
       "    <tr>\n",
       "      <th>...</th>\n",
       "      <td>...</td>\n",
       "      <td>...</td>\n",
       "      <td>...</td>\n",
       "      <td>...</td>\n",
       "      <td>...</td>\n",
       "      <td>...</td>\n",
       "    </tr>\n",
       "    <tr>\n",
       "      <th>56</th>\n",
       "      <td>3/13/2017</td>\n",
       "      <td>844.000000</td>\n",
       "      <td>848.684998</td>\n",
       "      <td>843.250000</td>\n",
       "      <td>845.539978</td>\n",
       "      <td>1149500</td>\n",
       "    </tr>\n",
       "    <tr>\n",
       "      <th>57</th>\n",
       "      <td>3/14/2017</td>\n",
       "      <td>843.640015</td>\n",
       "      <td>847.239990</td>\n",
       "      <td>840.799988</td>\n",
       "      <td>845.619995</td>\n",
       "      <td>779900</td>\n",
       "    </tr>\n",
       "    <tr>\n",
       "      <th>58</th>\n",
       "      <td>3/15/2017</td>\n",
       "      <td>847.590027</td>\n",
       "      <td>848.630005</td>\n",
       "      <td>840.770020</td>\n",
       "      <td>847.200012</td>\n",
       "      <td>1379600</td>\n",
       "    </tr>\n",
       "    <tr>\n",
       "      <th>59</th>\n",
       "      <td>3/16/2017</td>\n",
       "      <td>849.030029</td>\n",
       "      <td>850.849976</td>\n",
       "      <td>846.130005</td>\n",
       "      <td>848.780029</td>\n",
       "      <td>970400</td>\n",
       "    </tr>\n",
       "    <tr>\n",
       "      <th>60</th>\n",
       "      <td>3/17/2017</td>\n",
       "      <td>851.609985</td>\n",
       "      <td>853.400024</td>\n",
       "      <td>847.109985</td>\n",
       "      <td>852.119995</td>\n",
       "      <td>1712300</td>\n",
       "    </tr>\n",
       "  </tbody>\n",
       "</table>\n",
       "<p>61 rows × 6 columns</p>\n",
       "</div>"
      ],
      "text/plain": [
       "          Date        Open        High         Low       Close   Volume\n",
       "0   12/19/2016  790.219971  797.659973  786.270020  794.200012  1225900\n",
       "1   12/20/2016  796.760010  798.650024  793.270020  796.419983   925100\n",
       "2   12/21/2016  795.840027  796.676025  787.099976  794.559998  1208700\n",
       "3   12/22/2016  792.359985  793.320007  788.580017  791.260010   969100\n",
       "4   12/23/2016  790.900024  792.739990  787.280029  789.909973   623400\n",
       "..         ...         ...         ...         ...         ...      ...\n",
       "56   3/13/2017  844.000000  848.684998  843.250000  845.539978  1149500\n",
       "57   3/14/2017  843.640015  847.239990  840.799988  845.619995   779900\n",
       "58   3/15/2017  847.590027  848.630005  840.770020  847.200012  1379600\n",
       "59   3/16/2017  849.030029  850.849976  846.130005  848.780029   970400\n",
       "60   3/17/2017  851.609985  853.400024  847.109985  852.119995  1712300\n",
       "\n",
       "[61 rows x 6 columns]"
      ]
     },
     "execution_count": 3,
     "metadata": {},
     "output_type": "execute_result"
    }
   ],
   "source": [
    "data"
   ]
  },
  {
   "cell_type": "code",
   "execution_count": 4,
   "id": "829bd17d-a88f-45a8-839a-c2beced1c77c",
   "metadata": {},
   "outputs": [
    {
     "data": {
      "text/plain": [
       "Date       object\n",
       "Open      float64\n",
       "High      float64\n",
       "Low       float64\n",
       "Close     float64\n",
       "Volume      int64\n",
       "dtype: object"
      ]
     },
     "execution_count": 4,
     "metadata": {},
     "output_type": "execute_result"
    }
   ],
   "source": [
    "data.dtypes"
   ]
  },
  {
   "cell_type": "code",
   "execution_count": 5,
   "id": "2734961a-9bdb-4fa3-986b-58f9a763ff16",
   "metadata": {},
   "outputs": [
    {
     "data": {
      "text/plain": [
       "2"
      ]
     },
     "execution_count": 5,
     "metadata": {},
     "output_type": "execute_result"
    }
   ],
   "source": [
    "data.ndim"
   ]
  },
  {
   "cell_type": "code",
   "execution_count": 6,
   "id": "432e5163-3432-4a0e-8734-3fc008229c74",
   "metadata": {},
   "outputs": [
    {
     "data": {
      "text/plain": [
       "366"
      ]
     },
     "execution_count": 6,
     "metadata": {},
     "output_type": "execute_result"
    }
   ],
   "source": [
    "data.size"
   ]
  },
  {
   "cell_type": "code",
   "execution_count": 7,
   "id": "067cb452-04e6-4cc1-bb1e-a62260e10e6b",
   "metadata": {},
   "outputs": [
    {
     "data": {
      "text/plain": [
       "(61, 6)"
      ]
     },
     "execution_count": 7,
     "metadata": {},
     "output_type": "execute_result"
    }
   ],
   "source": [
    "data.shape"
   ]
  },
  {
   "cell_type": "code",
   "execution_count": 8,
   "id": "02cc9b7d-7661-40af-9ebf-223f23158034",
   "metadata": {},
   "outputs": [
    {
     "data": {
      "text/plain": [
       "<bound method DataFrame.info of           Date        Open        High         Low       Close   Volume\n",
       "0   12/19/2016  790.219971  797.659973  786.270020  794.200012  1225900\n",
       "1   12/20/2016  796.760010  798.650024  793.270020  796.419983   925100\n",
       "2   12/21/2016  795.840027  796.676025  787.099976  794.559998  1208700\n",
       "3   12/22/2016  792.359985  793.320007  788.580017  791.260010   969100\n",
       "4   12/23/2016  790.900024  792.739990  787.280029  789.909973   623400\n",
       "..         ...         ...         ...         ...         ...      ...\n",
       "56   3/13/2017  844.000000  848.684998  843.250000  845.539978  1149500\n",
       "57   3/14/2017  843.640015  847.239990  840.799988  845.619995   779900\n",
       "58   3/15/2017  847.590027  848.630005  840.770020  847.200012  1379600\n",
       "59   3/16/2017  849.030029  850.849976  846.130005  848.780029   970400\n",
       "60   3/17/2017  851.609985  853.400024  847.109985  852.119995  1712300\n",
       "\n",
       "[61 rows x 6 columns]>"
      ]
     },
     "execution_count": 8,
     "metadata": {},
     "output_type": "execute_result"
    }
   ],
   "source": [
    "data.info"
   ]
  },
  {
   "cell_type": "code",
   "execution_count": 9,
   "id": "1fb4dc91-42f8-468e-9457-18adcfaa3af8",
   "metadata": {},
   "outputs": [
    {
     "data": {
      "text/html": [
       "<div>\n",
       "<style scoped>\n",
       "    .dataframe tbody tr th:only-of-type {\n",
       "        vertical-align: middle;\n",
       "    }\n",
       "\n",
       "    .dataframe tbody tr th {\n",
       "        vertical-align: top;\n",
       "    }\n",
       "\n",
       "    .dataframe thead th {\n",
       "        text-align: right;\n",
       "    }\n",
       "</style>\n",
       "<table border=\"1\" class=\"dataframe\">\n",
       "  <thead>\n",
       "    <tr style=\"text-align: right;\">\n",
       "      <th></th>\n",
       "      <th>Open</th>\n",
       "      <th>High</th>\n",
       "      <th>Low</th>\n",
       "      <th>Close</th>\n",
       "      <th>Volume</th>\n",
       "    </tr>\n",
       "  </thead>\n",
       "  <tbody>\n",
       "    <tr>\n",
       "      <th>count</th>\n",
       "      <td>61.000000</td>\n",
       "      <td>61.000000</td>\n",
       "      <td>61.000000</td>\n",
       "      <td>61.000000</td>\n",
       "      <td>6.100000e+01</td>\n",
       "    </tr>\n",
       "    <tr>\n",
       "      <th>mean</th>\n",
       "      <td>814.005573</td>\n",
       "      <td>817.755576</td>\n",
       "      <td>809.734066</td>\n",
       "      <td>814.561804</td>\n",
       "      <td>1.361269e+06</td>\n",
       "    </tr>\n",
       "    <tr>\n",
       "      <th>std</th>\n",
       "      <td>18.784303</td>\n",
       "      <td>18.556004</td>\n",
       "      <td>19.384799</td>\n",
       "      <td>19.265955</td>\n",
       "      <td>4.987376e+05</td>\n",
       "    </tr>\n",
       "    <tr>\n",
       "      <th>min</th>\n",
       "      <td>778.809998</td>\n",
       "      <td>782.780029</td>\n",
       "      <td>770.409973</td>\n",
       "      <td>771.820007</td>\n",
       "      <td>6.234000e+05</td>\n",
       "    </tr>\n",
       "    <tr>\n",
       "      <th>25%</th>\n",
       "      <td>799.679993</td>\n",
       "      <td>802.700012</td>\n",
       "      <td>793.270020</td>\n",
       "      <td>801.340027</td>\n",
       "      <td>1.057900e+06</td>\n",
       "    </tr>\n",
       "    <tr>\n",
       "      <th>50%</th>\n",
       "      <td>809.510010</td>\n",
       "      <td>815.250000</td>\n",
       "      <td>804.539978</td>\n",
       "      <td>809.559998</td>\n",
       "      <td>1.247700e+06</td>\n",
       "    </tr>\n",
       "    <tr>\n",
       "      <th>75%</th>\n",
       "      <td>828.659973</td>\n",
       "      <td>833.250000</td>\n",
       "      <td>825.059998</td>\n",
       "      <td>830.630005</td>\n",
       "      <td>1.494500e+06</td>\n",
       "    </tr>\n",
       "    <tr>\n",
       "      <th>max</th>\n",
       "      <td>851.609985</td>\n",
       "      <td>853.400024</td>\n",
       "      <td>847.109985</td>\n",
       "      <td>852.119995</td>\n",
       "      <td>3.228900e+06</td>\n",
       "    </tr>\n",
       "  </tbody>\n",
       "</table>\n",
       "</div>"
      ],
      "text/plain": [
       "             Open        High         Low       Close        Volume\n",
       "count   61.000000   61.000000   61.000000   61.000000  6.100000e+01\n",
       "mean   814.005573  817.755576  809.734066  814.561804  1.361269e+06\n",
       "std     18.784303   18.556004   19.384799   19.265955  4.987376e+05\n",
       "min    778.809998  782.780029  770.409973  771.820007  6.234000e+05\n",
       "25%    799.679993  802.700012  793.270020  801.340027  1.057900e+06\n",
       "50%    809.510010  815.250000  804.539978  809.559998  1.247700e+06\n",
       "75%    828.659973  833.250000  825.059998  830.630005  1.494500e+06\n",
       "max    851.609985  853.400024  847.109985  852.119995  3.228900e+06"
      ]
     },
     "execution_count": 9,
     "metadata": {},
     "output_type": "execute_result"
    }
   ],
   "source": [
    "data.describe()"
   ]
  },
  {
   "cell_type": "markdown",
   "id": "7721c44a-53d5-41b0-bd5d-38402ea60c71",
   "metadata": {},
   "source": [
    "## Checking for Missing Values in Dataset"
   ]
  },
  {
   "cell_type": "code",
   "execution_count": 10,
   "id": "6e4a4290-780f-4b45-baec-0f90f669c6f8",
   "metadata": {},
   "outputs": [
    {
     "data": {
      "text/html": [
       "<div>\n",
       "<style scoped>\n",
       "    .dataframe tbody tr th:only-of-type {\n",
       "        vertical-align: middle;\n",
       "    }\n",
       "\n",
       "    .dataframe tbody tr th {\n",
       "        vertical-align: top;\n",
       "    }\n",
       "\n",
       "    .dataframe thead th {\n",
       "        text-align: right;\n",
       "    }\n",
       "</style>\n",
       "<table border=\"1\" class=\"dataframe\">\n",
       "  <thead>\n",
       "    <tr style=\"text-align: right;\">\n",
       "      <th></th>\n",
       "      <th>Date</th>\n",
       "      <th>Open</th>\n",
       "      <th>High</th>\n",
       "      <th>Low</th>\n",
       "      <th>Close</th>\n",
       "      <th>Volume</th>\n",
       "    </tr>\n",
       "  </thead>\n",
       "  <tbody>\n",
       "    <tr>\n",
       "      <th>0</th>\n",
       "      <td>False</td>\n",
       "      <td>False</td>\n",
       "      <td>False</td>\n",
       "      <td>False</td>\n",
       "      <td>False</td>\n",
       "      <td>False</td>\n",
       "    </tr>\n",
       "    <tr>\n",
       "      <th>1</th>\n",
       "      <td>False</td>\n",
       "      <td>False</td>\n",
       "      <td>False</td>\n",
       "      <td>False</td>\n",
       "      <td>False</td>\n",
       "      <td>False</td>\n",
       "    </tr>\n",
       "    <tr>\n",
       "      <th>2</th>\n",
       "      <td>False</td>\n",
       "      <td>False</td>\n",
       "      <td>False</td>\n",
       "      <td>False</td>\n",
       "      <td>False</td>\n",
       "      <td>False</td>\n",
       "    </tr>\n",
       "    <tr>\n",
       "      <th>3</th>\n",
       "      <td>False</td>\n",
       "      <td>False</td>\n",
       "      <td>False</td>\n",
       "      <td>False</td>\n",
       "      <td>False</td>\n",
       "      <td>False</td>\n",
       "    </tr>\n",
       "    <tr>\n",
       "      <th>4</th>\n",
       "      <td>False</td>\n",
       "      <td>False</td>\n",
       "      <td>False</td>\n",
       "      <td>False</td>\n",
       "      <td>False</td>\n",
       "      <td>False</td>\n",
       "    </tr>\n",
       "    <tr>\n",
       "      <th>...</th>\n",
       "      <td>...</td>\n",
       "      <td>...</td>\n",
       "      <td>...</td>\n",
       "      <td>...</td>\n",
       "      <td>...</td>\n",
       "      <td>...</td>\n",
       "    </tr>\n",
       "    <tr>\n",
       "      <th>56</th>\n",
       "      <td>False</td>\n",
       "      <td>False</td>\n",
       "      <td>False</td>\n",
       "      <td>False</td>\n",
       "      <td>False</td>\n",
       "      <td>False</td>\n",
       "    </tr>\n",
       "    <tr>\n",
       "      <th>57</th>\n",
       "      <td>False</td>\n",
       "      <td>False</td>\n",
       "      <td>False</td>\n",
       "      <td>False</td>\n",
       "      <td>False</td>\n",
       "      <td>False</td>\n",
       "    </tr>\n",
       "    <tr>\n",
       "      <th>58</th>\n",
       "      <td>False</td>\n",
       "      <td>False</td>\n",
       "      <td>False</td>\n",
       "      <td>False</td>\n",
       "      <td>False</td>\n",
       "      <td>False</td>\n",
       "    </tr>\n",
       "    <tr>\n",
       "      <th>59</th>\n",
       "      <td>False</td>\n",
       "      <td>False</td>\n",
       "      <td>False</td>\n",
       "      <td>False</td>\n",
       "      <td>False</td>\n",
       "      <td>False</td>\n",
       "    </tr>\n",
       "    <tr>\n",
       "      <th>60</th>\n",
       "      <td>False</td>\n",
       "      <td>False</td>\n",
       "      <td>False</td>\n",
       "      <td>False</td>\n",
       "      <td>False</td>\n",
       "      <td>False</td>\n",
       "    </tr>\n",
       "  </tbody>\n",
       "</table>\n",
       "<p>61 rows × 6 columns</p>\n",
       "</div>"
      ],
      "text/plain": [
       "     Date   Open   High    Low  Close  Volume\n",
       "0   False  False  False  False  False   False\n",
       "1   False  False  False  False  False   False\n",
       "2   False  False  False  False  False   False\n",
       "3   False  False  False  False  False   False\n",
       "4   False  False  False  False  False   False\n",
       "..    ...    ...    ...    ...    ...     ...\n",
       "56  False  False  False  False  False   False\n",
       "57  False  False  False  False  False   False\n",
       "58  False  False  False  False  False   False\n",
       "59  False  False  False  False  False   False\n",
       "60  False  False  False  False  False   False\n",
       "\n",
       "[61 rows x 6 columns]"
      ]
     },
     "execution_count": 10,
     "metadata": {},
     "output_type": "execute_result"
    }
   ],
   "source": [
    "data.isnull()"
   ]
  },
  {
   "cell_type": "code",
   "execution_count": 11,
   "id": "7bb44cfe-439b-441b-bf56-ef44ecbd9e4d",
   "metadata": {},
   "outputs": [
    {
     "data": {
      "text/plain": [
       "Date      0\n",
       "Open      0\n",
       "High      0\n",
       "Low       0\n",
       "Close     0\n",
       "Volume    0\n",
       "dtype: int64"
      ]
     },
     "execution_count": 11,
     "metadata": {},
     "output_type": "execute_result"
    }
   ],
   "source": [
    "data.isnull().sum()"
   ]
  },
  {
   "cell_type": "code",
   "execution_count": 12,
   "id": "001761ec-4580-45a3-8cce-f15224df9a75",
   "metadata": {},
   "outputs": [
    {
     "data": {
      "text/plain": [
       "0"
      ]
     },
     "execution_count": 12,
     "metadata": {},
     "output_type": "execute_result"
    }
   ],
   "source": [
    "data.isnull().sum().sum()"
   ]
  },
  {
   "cell_type": "markdown",
   "id": "d2554401-01f3-4add-b0c9-aedfd53bcbff",
   "metadata": {},
   "source": [
    "## Data Normalization "
   ]
  },
  {
   "cell_type": "code",
   "execution_count": 13,
   "id": "7aeddcbb-3b07-4bf7-964f-3841bb7cba54",
   "metadata": {},
   "outputs": [],
   "source": [
    "from sklearn.preprocessing import MinMaxScaler\n",
    "scaler=MinMaxScaler()\n",
    "scaled_data=scaler.fit_transform(data['Close'].values.reshape(-1,1))"
   ]
  },
  {
   "cell_type": "code",
   "execution_count": 14,
   "id": "170500b6-ac69-4d04-bcd0-c70717a01f28",
   "metadata": {},
   "outputs": [
    {
     "data": {
      "text/plain": [
       "array([[0.27870496],\n",
       "       [0.30635093],\n",
       "       [0.28318798],\n",
       "       [0.24209223],\n",
       "       [0.22527981],\n",
       "       [0.24570341],\n",
       "       [0.16475695],\n",
       "       [0.13661236],\n",
       "       [0.        ],\n",
       "       [0.17833138],\n",
       "       [0.18779601],\n",
       "       [0.27646347],\n",
       "       [0.42752207],\n",
       "       [0.43374872],\n",
       "       [0.41058501],\n",
       "       [0.44943925],\n",
       "       [0.43013678],\n",
       "       [0.44906604],\n",
       "       [0.4083435 ],\n",
       "       [0.42652559],\n",
       "       [0.37801975],\n",
       "       [0.41344979],\n",
       "       [0.5914072 ],\n",
       "       [0.64819422],\n",
       "       [0.79514303],\n",
       "       [0.75130792],\n",
       "       [0.64122041],\n",
       "       [0.37982571],\n",
       "       [0.31095859],\n",
       "       [0.29732258],\n",
       "       [0.33262797],\n",
       "       [0.36948926],\n",
       "       [0.36762172],\n",
       "       [0.43773312],\n",
       "       [0.4552927 ],\n",
       "       [0.4699875 ],\n",
       "       [0.52117039],\n",
       "       [0.59053537],\n",
       "       [0.60560414],\n",
       "       [0.58729739],\n",
       "       [0.6518054 ],\n",
       "       [0.70049824],\n",
       "       [0.74520517],\n",
       "       [0.73399766],\n",
       "       [0.74109613],\n",
       "       [0.70759672],\n",
       "       [0.71556701],\n",
       "       [0.63997538],\n",
       "       [0.7897882 ],\n",
       "       [0.73237866],\n",
       "       [0.7130762 ],\n",
       "       [0.69688705],\n",
       "       [0.74831849],\n",
       "       [0.79140719],\n",
       "       [0.8326276 ],\n",
       "       [0.88953927],\n",
       "       [0.91805706],\n",
       "       [0.91905354],\n",
       "       [0.93872997],\n",
       "       [0.95840639],\n",
       "       [1.        ]])"
      ]
     },
     "execution_count": 14,
     "metadata": {},
     "output_type": "execute_result"
    }
   ],
   "source": [
    "scaled_data"
   ]
  },
  {
   "cell_type": "markdown",
   "id": "006a28ff-d68b-41ec-8863-9021ad9bf87a",
   "metadata": {},
   "source": [
    "## Splitting Dataset into Training Data and Test Data"
   ]
  },
  {
   "cell_type": "code",
   "execution_count": 15,
   "id": "10ab898a-b76b-41d1-bdcf-6c1942cf6773",
   "metadata": {},
   "outputs": [],
   "source": [
    "training_size=int(len(scaled_data)*0.8)\n",
    "train_data=scaled_data[:training_size]\n",
    "test_data=scaled_data[training_size:]"
   ]
  },
  {
   "cell_type": "code",
   "execution_count": 16,
   "id": "c82ce15a-df0c-4267-bb11-3edd529fd60f",
   "metadata": {},
   "outputs": [
    {
     "data": {
      "text/plain": [
       "array([[0.27870496],\n",
       "       [0.30635093],\n",
       "       [0.28318798],\n",
       "       [0.24209223],\n",
       "       [0.22527981],\n",
       "       [0.24570341],\n",
       "       [0.16475695],\n",
       "       [0.13661236],\n",
       "       [0.        ],\n",
       "       [0.17833138],\n",
       "       [0.18779601],\n",
       "       [0.27646347],\n",
       "       [0.42752207],\n",
       "       [0.43374872],\n",
       "       [0.41058501],\n",
       "       [0.44943925],\n",
       "       [0.43013678],\n",
       "       [0.44906604],\n",
       "       [0.4083435 ],\n",
       "       [0.42652559],\n",
       "       [0.37801975],\n",
       "       [0.41344979],\n",
       "       [0.5914072 ],\n",
       "       [0.64819422],\n",
       "       [0.79514303],\n",
       "       [0.75130792],\n",
       "       [0.64122041],\n",
       "       [0.37982571],\n",
       "       [0.31095859],\n",
       "       [0.29732258],\n",
       "       [0.33262797],\n",
       "       [0.36948926],\n",
       "       [0.36762172],\n",
       "       [0.43773312],\n",
       "       [0.4552927 ],\n",
       "       [0.4699875 ],\n",
       "       [0.52117039],\n",
       "       [0.59053537],\n",
       "       [0.60560414],\n",
       "       [0.58729739],\n",
       "       [0.6518054 ],\n",
       "       [0.70049824],\n",
       "       [0.74520517],\n",
       "       [0.73399766],\n",
       "       [0.74109613],\n",
       "       [0.70759672],\n",
       "       [0.71556701],\n",
       "       [0.63997538]])"
      ]
     },
     "execution_count": 16,
     "metadata": {},
     "output_type": "execute_result"
    }
   ],
   "source": [
    "train_data"
   ]
  },
  {
   "cell_type": "code",
   "execution_count": 17,
   "id": "b5725a39-1f7f-494e-a215-89ced4e03957",
   "metadata": {},
   "outputs": [
    {
     "data": {
      "text/plain": [
       "(48, 1)"
      ]
     },
     "execution_count": 17,
     "metadata": {},
     "output_type": "execute_result"
    }
   ],
   "source": [
    "train_data.shape"
   ]
  },
  {
   "cell_type": "code",
   "execution_count": 18,
   "id": "050a3ce4-136e-490e-aebb-40f9260035c4",
   "metadata": {},
   "outputs": [
    {
     "data": {
      "text/plain": [
       "array([[0.7897882 ],\n",
       "       [0.73237866],\n",
       "       [0.7130762 ],\n",
       "       [0.69688705],\n",
       "       [0.74831849],\n",
       "       [0.79140719],\n",
       "       [0.8326276 ],\n",
       "       [0.88953927],\n",
       "       [0.91805706],\n",
       "       [0.91905354],\n",
       "       [0.93872997],\n",
       "       [0.95840639],\n",
       "       [1.        ]])"
      ]
     },
     "execution_count": 18,
     "metadata": {},
     "output_type": "execute_result"
    }
   ],
   "source": [
    "test_data"
   ]
  },
  {
   "cell_type": "code",
   "execution_count": 19,
   "id": "b99c130d-4556-4f64-94b1-a9b34bde0984",
   "metadata": {},
   "outputs": [
    {
     "data": {
      "text/plain": [
       "(13, 1)"
      ]
     },
     "execution_count": 19,
     "metadata": {},
     "output_type": "execute_result"
    }
   ],
   "source": [
    "test_data.shape"
   ]
  },
  {
   "cell_type": "markdown",
   "id": "67244528-8567-4e65-8855-2c5ac5971cc7",
   "metadata": {},
   "source": [
    "## Creating Sequences for Time Series Analysis"
   ]
  },
  {
   "cell_type": "code",
   "execution_count": 20,
   "id": "fd268bab-34ad-4883-9dac-6353ff3b8d39",
   "metadata": {},
   "outputs": [],
   "source": [
    "def create_sequences(data,time_steps=6):\n",
    "    x=[]\n",
    "    y=[]\n",
    "    for i in range(len(data)-time_steps):\n",
    "        x.append(data[i:i+time_steps,0])\n",
    "        y.append(data[i+time_steps,0])\n",
    "    return np.array(x),np.array(y)"
   ]
  },
  {
   "cell_type": "code",
   "execution_count": 21,
   "id": "4b07c598-6db0-4663-9881-a9888ee68153",
   "metadata": {},
   "outputs": [],
   "source": [
    "x_train,y_train=create_sequences(train_data)\n",
    "x_test,y_test=create_sequences(test_data)"
   ]
  },
  {
   "cell_type": "code",
   "execution_count": 22,
   "id": "7b3465d2-921f-4458-a69a-2a6dd9bfe69c",
   "metadata": {},
   "outputs": [
    {
     "data": {
      "text/plain": [
       "array([[0.27870496, 0.30635093, 0.28318798, 0.24209223, 0.22527981,\n",
       "        0.24570341],\n",
       "       [0.30635093, 0.28318798, 0.24209223, 0.22527981, 0.24570341,\n",
       "        0.16475695],\n",
       "       [0.28318798, 0.24209223, 0.22527981, 0.24570341, 0.16475695,\n",
       "        0.13661236],\n",
       "       [0.24209223, 0.22527981, 0.24570341, 0.16475695, 0.13661236,\n",
       "        0.        ],\n",
       "       [0.22527981, 0.24570341, 0.16475695, 0.13661236, 0.        ,\n",
       "        0.17833138],\n",
       "       [0.24570341, 0.16475695, 0.13661236, 0.        , 0.17833138,\n",
       "        0.18779601],\n",
       "       [0.16475695, 0.13661236, 0.        , 0.17833138, 0.18779601,\n",
       "        0.27646347],\n",
       "       [0.13661236, 0.        , 0.17833138, 0.18779601, 0.27646347,\n",
       "        0.42752207],\n",
       "       [0.        , 0.17833138, 0.18779601, 0.27646347, 0.42752207,\n",
       "        0.43374872],\n",
       "       [0.17833138, 0.18779601, 0.27646347, 0.42752207, 0.43374872,\n",
       "        0.41058501],\n",
       "       [0.18779601, 0.27646347, 0.42752207, 0.43374872, 0.41058501,\n",
       "        0.44943925],\n",
       "       [0.27646347, 0.42752207, 0.43374872, 0.41058501, 0.44943925,\n",
       "        0.43013678],\n",
       "       [0.42752207, 0.43374872, 0.41058501, 0.44943925, 0.43013678,\n",
       "        0.44906604],\n",
       "       [0.43374872, 0.41058501, 0.44943925, 0.43013678, 0.44906604,\n",
       "        0.4083435 ],\n",
       "       [0.41058501, 0.44943925, 0.43013678, 0.44906604, 0.4083435 ,\n",
       "        0.42652559],\n",
       "       [0.44943925, 0.43013678, 0.44906604, 0.4083435 , 0.42652559,\n",
       "        0.37801975],\n",
       "       [0.43013678, 0.44906604, 0.4083435 , 0.42652559, 0.37801975,\n",
       "        0.41344979],\n",
       "       [0.44906604, 0.4083435 , 0.42652559, 0.37801975, 0.41344979,\n",
       "        0.5914072 ],\n",
       "       [0.4083435 , 0.42652559, 0.37801975, 0.41344979, 0.5914072 ,\n",
       "        0.64819422],\n",
       "       [0.42652559, 0.37801975, 0.41344979, 0.5914072 , 0.64819422,\n",
       "        0.79514303],\n",
       "       [0.37801975, 0.41344979, 0.5914072 , 0.64819422, 0.79514303,\n",
       "        0.75130792],\n",
       "       [0.41344979, 0.5914072 , 0.64819422, 0.79514303, 0.75130792,\n",
       "        0.64122041],\n",
       "       [0.5914072 , 0.64819422, 0.79514303, 0.75130792, 0.64122041,\n",
       "        0.37982571],\n",
       "       [0.64819422, 0.79514303, 0.75130792, 0.64122041, 0.37982571,\n",
       "        0.31095859],\n",
       "       [0.79514303, 0.75130792, 0.64122041, 0.37982571, 0.31095859,\n",
       "        0.29732258],\n",
       "       [0.75130792, 0.64122041, 0.37982571, 0.31095859, 0.29732258,\n",
       "        0.33262797],\n",
       "       [0.64122041, 0.37982571, 0.31095859, 0.29732258, 0.33262797,\n",
       "        0.36948926],\n",
       "       [0.37982571, 0.31095859, 0.29732258, 0.33262797, 0.36948926,\n",
       "        0.36762172],\n",
       "       [0.31095859, 0.29732258, 0.33262797, 0.36948926, 0.36762172,\n",
       "        0.43773312],\n",
       "       [0.29732258, 0.33262797, 0.36948926, 0.36762172, 0.43773312,\n",
       "        0.4552927 ],\n",
       "       [0.33262797, 0.36948926, 0.36762172, 0.43773312, 0.4552927 ,\n",
       "        0.4699875 ],\n",
       "       [0.36948926, 0.36762172, 0.43773312, 0.4552927 , 0.4699875 ,\n",
       "        0.52117039],\n",
       "       [0.36762172, 0.43773312, 0.4552927 , 0.4699875 , 0.52117039,\n",
       "        0.59053537],\n",
       "       [0.43773312, 0.4552927 , 0.4699875 , 0.52117039, 0.59053537,\n",
       "        0.60560414],\n",
       "       [0.4552927 , 0.4699875 , 0.52117039, 0.59053537, 0.60560414,\n",
       "        0.58729739],\n",
       "       [0.4699875 , 0.52117039, 0.59053537, 0.60560414, 0.58729739,\n",
       "        0.6518054 ],\n",
       "       [0.52117039, 0.59053537, 0.60560414, 0.58729739, 0.6518054 ,\n",
       "        0.70049824],\n",
       "       [0.59053537, 0.60560414, 0.58729739, 0.6518054 , 0.70049824,\n",
       "        0.74520517],\n",
       "       [0.60560414, 0.58729739, 0.6518054 , 0.70049824, 0.74520517,\n",
       "        0.73399766],\n",
       "       [0.58729739, 0.6518054 , 0.70049824, 0.74520517, 0.73399766,\n",
       "        0.74109613],\n",
       "       [0.6518054 , 0.70049824, 0.74520517, 0.73399766, 0.74109613,\n",
       "        0.70759672],\n",
       "       [0.70049824, 0.74520517, 0.73399766, 0.74109613, 0.70759672,\n",
       "        0.71556701]])"
      ]
     },
     "execution_count": 22,
     "metadata": {},
     "output_type": "execute_result"
    }
   ],
   "source": [
    "x_train"
   ]
  },
  {
   "cell_type": "code",
   "execution_count": 23,
   "id": "7c3d4169-898d-4b1c-a566-baf91bf7978d",
   "metadata": {},
   "outputs": [
    {
     "data": {
      "text/plain": [
       "array([0.16475695, 0.13661236, 0.        , 0.17833138, 0.18779601,\n",
       "       0.27646347, 0.42752207, 0.43374872, 0.41058501, 0.44943925,\n",
       "       0.43013678, 0.44906604, 0.4083435 , 0.42652559, 0.37801975,\n",
       "       0.41344979, 0.5914072 , 0.64819422, 0.79514303, 0.75130792,\n",
       "       0.64122041, 0.37982571, 0.31095859, 0.29732258, 0.33262797,\n",
       "       0.36948926, 0.36762172, 0.43773312, 0.4552927 , 0.4699875 ,\n",
       "       0.52117039, 0.59053537, 0.60560414, 0.58729739, 0.6518054 ,\n",
       "       0.70049824, 0.74520517, 0.73399766, 0.74109613, 0.70759672,\n",
       "       0.71556701, 0.63997538])"
      ]
     },
     "execution_count": 23,
     "metadata": {},
     "output_type": "execute_result"
    }
   ],
   "source": [
    "y_train"
   ]
  },
  {
   "cell_type": "code",
   "execution_count": 24,
   "id": "58f4bcd2-421d-4963-9241-e176d87b8733",
   "metadata": {},
   "outputs": [
    {
     "data": {
      "text/plain": [
       "array([[0.7897882 , 0.73237866, 0.7130762 , 0.69688705, 0.74831849,\n",
       "        0.79140719],\n",
       "       [0.73237866, 0.7130762 , 0.69688705, 0.74831849, 0.79140719,\n",
       "        0.8326276 ],\n",
       "       [0.7130762 , 0.69688705, 0.74831849, 0.79140719, 0.8326276 ,\n",
       "        0.88953927],\n",
       "       [0.69688705, 0.74831849, 0.79140719, 0.8326276 , 0.88953927,\n",
       "        0.91805706],\n",
       "       [0.74831849, 0.79140719, 0.8326276 , 0.88953927, 0.91805706,\n",
       "        0.91905354],\n",
       "       [0.79140719, 0.8326276 , 0.88953927, 0.91805706, 0.91905354,\n",
       "        0.93872997],\n",
       "       [0.8326276 , 0.88953927, 0.91805706, 0.91905354, 0.93872997,\n",
       "        0.95840639]])"
      ]
     },
     "execution_count": 24,
     "metadata": {},
     "output_type": "execute_result"
    }
   ],
   "source": [
    "x_test"
   ]
  },
  {
   "cell_type": "code",
   "execution_count": 25,
   "id": "193e5ed5-3df6-4d37-acb5-6fea58806a73",
   "metadata": {},
   "outputs": [
    {
     "data": {
      "text/plain": [
       "array([0.8326276 , 0.88953927, 0.91805706, 0.91905354, 0.93872997,\n",
       "       0.95840639, 1.        ])"
      ]
     },
     "execution_count": 25,
     "metadata": {},
     "output_type": "execute_result"
    }
   ],
   "source": [
    "y_test"
   ]
  },
  {
   "cell_type": "code",
   "execution_count": 26,
   "id": "88e4f598-e7c3-4790-bf87-7cec0c5ef585",
   "metadata": {},
   "outputs": [
    {
     "data": {
      "text/plain": [
       "(42, 6)"
      ]
     },
     "execution_count": 26,
     "metadata": {},
     "output_type": "execute_result"
    }
   ],
   "source": [
    "x_train.shape"
   ]
  },
  {
   "cell_type": "code",
   "execution_count": 27,
   "id": "935a9086-3851-4ba4-a5ed-87c7e67f9d42",
   "metadata": {},
   "outputs": [
    {
     "data": {
      "text/plain": [
       "(42,)"
      ]
     },
     "execution_count": 27,
     "metadata": {},
     "output_type": "execute_result"
    }
   ],
   "source": [
    "y_train.shape"
   ]
  },
  {
   "cell_type": "code",
   "execution_count": 28,
   "id": "258def05-c17f-4b35-9142-a0b04a1c7dcb",
   "metadata": {},
   "outputs": [
    {
     "data": {
      "text/plain": [
       "(7, 6)"
      ]
     },
     "execution_count": 28,
     "metadata": {},
     "output_type": "execute_result"
    }
   ],
   "source": [
    "x_test.shape"
   ]
  },
  {
   "cell_type": "code",
   "execution_count": 29,
   "id": "eb867f7e-c998-4fd8-ad69-081690b5bffb",
   "metadata": {},
   "outputs": [
    {
     "data": {
      "text/plain": [
       "(7,)"
      ]
     },
     "execution_count": 29,
     "metadata": {},
     "output_type": "execute_result"
    }
   ],
   "source": [
    "y_test.shape"
   ]
  },
  {
   "cell_type": "markdown",
   "id": "d8f9b27f-488f-4026-8831-4306f38828a8",
   "metadata": {},
   "source": [
    "## Building the Recurrent Neural Network (RNN) Model"
   ]
  },
  {
   "cell_type": "code",
   "execution_count": 30,
   "id": "b41c2af3-a5c8-4a16-8cc3-160f4d824190",
   "metadata": {},
   "outputs": [],
   "source": [
    "from tensorflow.keras.models import Sequential\n",
    "from tensorflow.keras.layers import LSTM,Dense\n",
    "\n",
    "model=Sequential()\n",
    "model.add(LSTM(50,return_sequences=True,input_shape=(x_train.shape[1],1)))\n",
    "model.add(LSTM(50))\n",
    "model.add(Dense(1))"
   ]
  },
  {
   "cell_type": "markdown",
   "id": "0721c180-e5c4-47ad-ba5d-848347f7b770",
   "metadata": {},
   "source": [
    "## Model Summary"
   ]
  },
  {
   "cell_type": "code",
   "execution_count": 31,
   "id": "c885b913-6690-49c6-98bc-fe2310db639a",
   "metadata": {},
   "outputs": [
    {
     "name": "stdout",
     "output_type": "stream",
     "text": [
      "Model: \"sequential\"\n",
      "_________________________________________________________________\n",
      " Layer (type)                Output Shape              Param #   \n",
      "=================================================================\n",
      " lstm (LSTM)                 (None, 6, 50)             10400     \n",
      "                                                                 \n",
      " lstm_1 (LSTM)               (None, 50)                20200     \n",
      "                                                                 \n",
      " dense (Dense)               (None, 1)                 51        \n",
      "                                                                 \n",
      "=================================================================\n",
      "Total params: 30651 (119.73 KB)\n",
      "Trainable params: 30651 (119.73 KB)\n",
      "Non-trainable params: 0 (0.00 Byte)\n",
      "_________________________________________________________________\n"
     ]
    }
   ],
   "source": [
    "model.summary()"
   ]
  },
  {
   "cell_type": "markdown",
   "id": "45ddca4f-7df3-4dff-a01f-98f4102a0f38",
   "metadata": {},
   "source": [
    "## Model Compilation"
   ]
  },
  {
   "cell_type": "code",
   "execution_count": 32,
   "id": "e6b50439-29e5-40ca-859f-f26f4292aada",
   "metadata": {},
   "outputs": [],
   "source": [
    "model.compile(optimizer='adam',loss='mse')"
   ]
  },
  {
   "cell_type": "markdown",
   "id": "7b63eb5d-fc4a-4142-985a-7efc81c5b64e",
   "metadata": {},
   "source": [
    "## Model Training"
   ]
  },
  {
   "cell_type": "code",
   "execution_count": 33,
   "id": "0a0cf18c-7a84-4331-b9f5-3f7e80691042",
   "metadata": {},
   "outputs": [
    {
     "name": "stdout",
     "output_type": "stream",
     "text": [
      "Epoch 1/50\n",
      " 7/11 [==================>...........] - ETA: 0s - loss: 0.2057"
     ]
    },
    {
     "name": "stderr",
     "output_type": "stream",
     "text": [
      "/Users/aryangalande/anaconda3/lib/python3.11/site-packages/tensorflow/python/data/ops/structured_function.py:258: UserWarning: Even though the `tf.config.experimental_run_functions_eagerly` option is set, this option does not apply to tf.data functions. To force eager execution of tf.data functions, please use `tf.data.experimental.enable_debug_mode()`.\n",
      "  warnings.warn(\n"
     ]
    },
    {
     "name": "stdout",
     "output_type": "stream",
     "text": [
      "11/11 [==============================] - 0s 18ms/step - loss: 0.1721\n",
      "Epoch 2/50\n",
      "11/11 [==============================] - 0s 17ms/step - loss: 0.0271\n",
      "Epoch 3/50\n",
      "11/11 [==============================] - 0s 17ms/step - loss: 0.0274\n",
      "Epoch 4/50\n",
      "11/11 [==============================] - 0s 17ms/step - loss: 0.0306\n",
      "Epoch 5/50\n",
      "11/11 [==============================] - 0s 17ms/step - loss: 0.0251\n",
      "Epoch 6/50\n",
      "11/11 [==============================] - 0s 17ms/step - loss: 0.0254\n",
      "Epoch 7/50\n",
      "11/11 [==============================] - 0s 17ms/step - loss: 0.0239\n",
      "Epoch 8/50\n",
      "11/11 [==============================] - 0s 17ms/step - loss: 0.0232\n",
      "Epoch 9/50\n",
      "11/11 [==============================] - 0s 19ms/step - loss: 0.0236\n",
      "Epoch 10/50\n",
      "11/11 [==============================] - 0s 17ms/step - loss: 0.0231\n",
      "Epoch 11/50\n",
      "11/11 [==============================] - 0s 17ms/step - loss: 0.0240\n",
      "Epoch 12/50\n",
      "11/11 [==============================] - 0s 17ms/step - loss: 0.0236\n",
      "Epoch 13/50\n",
      "11/11 [==============================] - 0s 18ms/step - loss: 0.0236\n",
      "Epoch 14/50\n",
      "11/11 [==============================] - 0s 18ms/step - loss: 0.0226\n",
      "Epoch 15/50\n",
      "11/11 [==============================] - 0s 18ms/step - loss: 0.0231\n",
      "Epoch 16/50\n",
      "11/11 [==============================] - 0s 18ms/step - loss: 0.0222\n",
      "Epoch 17/50\n",
      "11/11 [==============================] - 0s 17ms/step - loss: 0.0220\n",
      "Epoch 18/50\n",
      "11/11 [==============================] - 0s 17ms/step - loss: 0.0214\n",
      "Epoch 19/50\n",
      "11/11 [==============================] - 0s 17ms/step - loss: 0.0212\n",
      "Epoch 20/50\n",
      "11/11 [==============================] - 0s 20ms/step - loss: 0.0213\n",
      "Epoch 21/50\n",
      "11/11 [==============================] - 0s 18ms/step - loss: 0.0218\n",
      "Epoch 22/50\n",
      "11/11 [==============================] - 0s 17ms/step - loss: 0.0213\n",
      "Epoch 23/50\n",
      "11/11 [==============================] - 0s 17ms/step - loss: 0.0205\n",
      "Epoch 24/50\n",
      "11/11 [==============================] - 0s 17ms/step - loss: 0.0225\n",
      "Epoch 25/50\n",
      "11/11 [==============================] - 0s 17ms/step - loss: 0.0185\n",
      "Epoch 26/50\n",
      "11/11 [==============================] - 0s 17ms/step - loss: 0.0212\n",
      "Epoch 27/50\n",
      "11/11 [==============================] - 0s 17ms/step - loss: 0.0232\n",
      "Epoch 28/50\n",
      "11/11 [==============================] - 0s 17ms/step - loss: 0.0244\n",
      "Epoch 29/50\n",
      "11/11 [==============================] - 0s 17ms/step - loss: 0.0177\n",
      "Epoch 30/50\n",
      "11/11 [==============================] - 0s 17ms/step - loss: 0.0181\n",
      "Epoch 31/50\n",
      "11/11 [==============================] - 0s 17ms/step - loss: 0.0174\n",
      "Epoch 32/50\n",
      "11/11 [==============================] - 0s 18ms/step - loss: 0.0168\n",
      "Epoch 33/50\n",
      "11/11 [==============================] - 0s 17ms/step - loss: 0.0160\n",
      "Epoch 34/50\n",
      "11/11 [==============================] - 0s 18ms/step - loss: 0.0154\n",
      "Epoch 35/50\n",
      "11/11 [==============================] - 0s 17ms/step - loss: 0.0181\n",
      "Epoch 36/50\n",
      "11/11 [==============================] - 0s 18ms/step - loss: 0.0179\n",
      "Epoch 37/50\n",
      "11/11 [==============================] - 0s 18ms/step - loss: 0.0168\n",
      "Epoch 38/50\n",
      "11/11 [==============================] - 0s 18ms/step - loss: 0.0141\n",
      "Epoch 39/50\n",
      "11/11 [==============================] - 0s 18ms/step - loss: 0.0180\n",
      "Epoch 40/50\n",
      "11/11 [==============================] - 0s 21ms/step - loss: 0.0146\n",
      "Epoch 41/50\n",
      "11/11 [==============================] - 0s 18ms/step - loss: 0.0185\n",
      "Epoch 42/50\n",
      "11/11 [==============================] - 0s 18ms/step - loss: 0.0137\n",
      "Epoch 43/50\n",
      "11/11 [==============================] - 0s 18ms/step - loss: 0.0123\n",
      "Epoch 44/50\n",
      "11/11 [==============================] - 0s 18ms/step - loss: 0.0121\n",
      "Epoch 45/50\n",
      "11/11 [==============================] - 0s 17ms/step - loss: 0.0120\n",
      "Epoch 46/50\n",
      "11/11 [==============================] - 0s 17ms/step - loss: 0.0131\n",
      "Epoch 47/50\n",
      "11/11 [==============================] - 0s 18ms/step - loss: 0.0118\n",
      "Epoch 48/50\n",
      "11/11 [==============================] - 0s 17ms/step - loss: 0.0124\n",
      "Epoch 49/50\n",
      "11/11 [==============================] - 0s 18ms/step - loss: 0.0111\n",
      "Epoch 50/50\n",
      "11/11 [==============================] - 0s 17ms/step - loss: 0.0105\n"
     ]
    },
    {
     "data": {
      "text/plain": [
       "<keras.src.callbacks.History at 0x17a1cca10>"
      ]
     },
     "execution_count": 33,
     "metadata": {},
     "output_type": "execute_result"
    }
   ],
   "source": [
    "model.fit(x_train,y_train,epochs=50,batch_size=4)"
   ]
  },
  {
   "cell_type": "markdown",
   "id": "fe81adf9-acf5-4e8e-8733-1607d4f017de",
   "metadata": {},
   "source": [
    "## Model Evaluation"
   ]
  },
  {
   "cell_type": "code",
   "execution_count": 34,
   "id": "f1f1746c-0b5b-46ea-bf92-f15684148820",
   "metadata": {},
   "outputs": [
    {
     "name": "stdout",
     "output_type": "stream",
     "text": [
      "2/2 [==============================] - 0s 11ms/step - loss: 0.0099\n"
     ]
    }
   ],
   "source": [
    "training_metrics=model.evaluate(x_train,y_train)"
   ]
  },
  {
   "cell_type": "code",
   "execution_count": 35,
   "id": "e86bb5d1-0cf5-4565-a79d-cd867960af0a",
   "metadata": {},
   "outputs": [
    {
     "data": {
      "text/plain": [
       "0.009877017699182034"
      ]
     },
     "execution_count": 35,
     "metadata": {},
     "output_type": "execute_result"
    }
   ],
   "source": [
    "training_metrics"
   ]
  },
  {
   "cell_type": "code",
   "execution_count": 36,
   "id": "138a5276-3a7d-43e2-901d-3cd1664fba13",
   "metadata": {},
   "outputs": [
    {
     "name": "stdout",
     "output_type": "stream",
     "text": [
      "1/1 [==============================] - 0s 18ms/step - loss: 0.0270\n"
     ]
    }
   ],
   "source": [
    "testing_metrics=model.evaluate(x_test,y_test)"
   ]
  },
  {
   "cell_type": "code",
   "execution_count": 37,
   "id": "d4b71e4a-6d21-46ec-88c4-b49baed0cf12",
   "metadata": {},
   "outputs": [
    {
     "data": {
      "text/plain": [
       "0.027031350880861282"
      ]
     },
     "execution_count": 37,
     "metadata": {},
     "output_type": "execute_result"
    }
   ],
   "source": [
    "testing_metrics"
   ]
  },
  {
   "cell_type": "markdown",
   "id": "5b7e2654-c30a-4728-a7e7-7e7255632eb9",
   "metadata": {},
   "source": [
    "## Model Prediction"
   ]
  },
  {
   "cell_type": "code",
   "execution_count": 38,
   "id": "e41b0c7a-e639-4141-a660-7a7e57f6494e",
   "metadata": {},
   "outputs": [
    {
     "name": "stdout",
     "output_type": "stream",
     "text": [
      "1/1 [==============================] - 0s 16ms/step\n"
     ]
    }
   ],
   "source": [
    "y_pred=model.predict(x_test)\n",
    "y_pred=scaler.inverse_transform(y_pred)\n",
    "y_test=scaler.inverse_transform(y_test.reshape(-1,1))"
   ]
  },
  {
   "cell_type": "code",
   "execution_count": 39,
   "id": "50709549-29d9-4d7b-8ae6-d628a1e98d45",
   "metadata": {},
   "outputs": [
    {
     "data": {
      "text/plain": [
       "array([[825.92566],\n",
       "       [829.8354 ],\n",
       "       [833.4928 ],\n",
       "       [835.6553 ],\n",
       "       [835.3011 ],\n",
       "       [834.86194],\n",
       "       [834.8645 ]], dtype=float32)"
      ]
     },
     "execution_count": 39,
     "metadata": {},
     "output_type": "execute_result"
    }
   ],
   "source": [
    "y_pred"
   ]
  },
  {
   "cell_type": "code",
   "execution_count": 40,
   "id": "51eed3c3-6b8c-486e-aef8-4b03d89d48c0",
   "metadata": {},
   "outputs": [
    {
     "data": {
      "text/plain": [
       "array([[838.679993],\n",
       "       [843.25    ],\n",
       "       [845.539978],\n",
       "       [845.619995],\n",
       "       [847.200012],\n",
       "       [848.780029],\n",
       "       [852.119995]])"
      ]
     },
     "execution_count": 40,
     "metadata": {},
     "output_type": "execute_result"
    }
   ],
   "source": [
    "y_test"
   ]
  },
  {
   "cell_type": "code",
   "execution_count": 41,
   "id": "b801ebd4-408f-4175-8056-748a2ea7b346",
   "metadata": {},
   "outputs": [
    {
     "name": "stdout",
     "output_type": "stream",
     "text": [
      "Mean Absolute Error:  13.036193784598206\n",
      "Mean Squared Error:  174.30068295172003\n",
      "Root Mean Squared Error:  13.202298396556564\n"
     ]
    }
   ],
   "source": [
    "from sklearn.metrics import mean_absolute_error,mean_squared_error\n",
    "mae=mean_absolute_error(y_test,y_pred)\n",
    "mse=mean_squared_error(y_test,y_pred)\n",
    "rmse=np.sqrt(mse)\n",
    "print('Mean Absolute Error: ',mae)\n",
    "print('Mean Squared Error: ',mse)\n",
    "print('Root Mean Squared Error: ',rmse)"
   ]
  },
  {
   "cell_type": "markdown",
   "id": "52368706-f7b0-4c6d-aec7-0db5f1912403",
   "metadata": {},
   "source": [
    "## Future Stock Price Prediction (Next Day based on Last 6 Days)"
   ]
  },
  {
   "cell_type": "code",
   "execution_count": 42,
   "id": "9de985ef-fd50-43c2-a79c-f9fd58985083",
   "metadata": {},
   "outputs": [],
   "source": [
    "last_6_days=data['Close'][-6:].values\n",
    "last_6_days_scaled=scaler.transform(last_6_days.reshape(-1,1))"
   ]
  },
  {
   "cell_type": "code",
   "execution_count": 43,
   "id": "dd93d67b-cff2-4547-bd0b-44c46eb04437",
   "metadata": {},
   "outputs": [
    {
     "data": {
      "text/plain": [
       "array([843.25    , 845.539978, 845.619995, 847.200012, 848.780029,\n",
       "       852.119995])"
      ]
     },
     "execution_count": 43,
     "metadata": {},
     "output_type": "execute_result"
    }
   ],
   "source": [
    "last_6_days"
   ]
  },
  {
   "cell_type": "code",
   "execution_count": 44,
   "id": "3010b572-4301-4a68-91b5-a976bdff3091",
   "metadata": {},
   "outputs": [
    {
     "data": {
      "text/plain": [
       "array([[0.88953927],\n",
       "       [0.91805706],\n",
       "       [0.91905354],\n",
       "       [0.93872997],\n",
       "       [0.95840639],\n",
       "       [1.        ]])"
      ]
     },
     "execution_count": 44,
     "metadata": {},
     "output_type": "execute_result"
    }
   ],
   "source": [
    "last_6_days_scaled"
   ]
  },
  {
   "cell_type": "code",
   "execution_count": 45,
   "id": "dca2d5b5-512a-4b30-8ce4-a5b111eaf833",
   "metadata": {},
   "outputs": [
    {
     "data": {
      "text/plain": [
       "array([[[0.88953927],\n",
       "        [0.91805706],\n",
       "        [0.91905354],\n",
       "        [0.93872997],\n",
       "        [0.95840639],\n",
       "        [1.        ]]])"
      ]
     },
     "execution_count": 45,
     "metadata": {},
     "output_type": "execute_result"
    }
   ],
   "source": [
    "pred=[]\n",
    "pred.append(last_6_days_scaled)\n",
    "pred=np.array(pred)\n",
    "pred=np.reshape(pred,(pred.shape[0],pred.shape[1],1))\n",
    "pred"
   ]
  },
  {
   "cell_type": "code",
   "execution_count": 46,
   "id": "1bbf6f1e-f72f-46ff-86cf-ca6553ea0f50",
   "metadata": {},
   "outputs": [
    {
     "name": "stdout",
     "output_type": "stream",
     "text": [
      "1/1 [==============================] - 0s 16ms/step\n",
      "Predicted Price for the Next Day:  836.27893\n"
     ]
    },
    {
     "name": "stderr",
     "output_type": "stream",
     "text": [
      "/Users/aryangalande/anaconda3/lib/python3.11/site-packages/tensorflow/python/data/ops/structured_function.py:258: UserWarning: Even though the `tf.config.experimental_run_functions_eagerly` option is set, this option does not apply to tf.data functions. To force eager execution of tf.data functions, please use `tf.data.experimental.enable_debug_mode()`.\n",
      "  warnings.warn(\n"
     ]
    }
   ],
   "source": [
    "pred_price=model.predict(pred)\n",
    "pred_price=scaler.inverse_transform(pred_price)\n",
    "print('Predicted Price for the Next Day: ', pred_price[0][0])"
   ]
  },
  {
   "cell_type": "markdown",
   "id": "0380db30-7074-4f98-94a7-53e24b673f09",
   "metadata": {},
   "source": [
    "## Model Visualization\n",
    "#### Actual Price v/s Predicted Price"
   ]
  },
  {
   "cell_type": "code",
   "execution_count": 47,
   "id": "f1aed1af-2e1c-4d6c-a0df-fc4e4eb21a16",
   "metadata": {},
   "outputs": [
    {
     "data": {
      "image/png": "[encoded data removed]",
      "text/plain": [
       "<Figure size 640x480 with 1 Axes>"
      ]
     },
     "metadata": {},
     "output_type": "display_data"
    }
   ],
   "source": [
    "plt.plot(y_test, label='Actual Price')\n",
    "plt.plot(y_pred,label='Predicted Price')\n",
    "plt.title('Actual Price V/S Predicted Price')\n",
    "plt.xlabel('Time')\n",
    "plt.ylabel('Price')\n",
    "plt.legend()\n",
    "plt.show()"
   ]
  }
 ],
 "metadata": {
  "kernelspec": {
   "display_name": "Python 3 (ipykernel)",
   "language": "python",
   "name": "python3"
  },
  "language_info": {
   "codemirror_mode": {
    "name": "ipython",
    "version": 3
   },
   "file_extension": ".py",
   "mimetype": "text/x-python",
   "name": "python",
   "nbconvert_exporter": "python",
   "pygments_lexer": "ipython3",
   "version": "3.11.5"
  }
 },
 "nbformat": 4,
 "nbformat_minor": 5
}
